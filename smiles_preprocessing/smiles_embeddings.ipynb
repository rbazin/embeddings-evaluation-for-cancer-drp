{
 "cells": [
  {
   "cell_type": "markdown",
   "metadata": {},
   "source": [
    "# SMILES embeddings precomputation"
   ]
  },
  {
   "cell_type": "markdown",
   "metadata": {},
   "source": [
    "In this notebook, we precompute all of the embeddings for the SMILES in our train and test sets."
   ]
  },
  {
   "cell_type": "markdown",
   "metadata": {},
   "source": [
    "## Loading ChemBERTa"
   ]
  },
  {
   "cell_type": "code",
   "execution_count": null,
   "metadata": {},
   "outputs": [],
   "source": [
    "from transformers import RobertaModel, RobertaTokenizer\n",
    "import pandas as pd\n",
    "from tqdm import tqdm\n",
    "import torch\n",
    "import numpy as np\n",
    "import joblib\n",
    "import os\n",
    "\n",
    "os.chdir('/home/python/data')\n",
    "os.environ[\"TOKENIZERS_PARALLELISM\"] = \"true\"\n",
    "\n",
    "device = torch.device('cuda' if torch.cuda.is_available() else 'cpu')\n",
    "print(f\"Using device: {device}\")"
   ]
  },
  {
   "cell_type": "code",
   "execution_count": null,
   "metadata": {},
   "outputs": [],
   "source": [
    "model = RobertaModel.from_pretrained(\"seyonec/PubChem10M_SMILES_BPE_450k\").to(device)\n",
    "tokenizer = RobertaTokenizer.from_pretrained(\"seyonec/PubChem10M_SMILES_BPE_450k\")"
   ]
  },
  {
   "cell_type": "markdown",
   "metadata": {},
   "source": [
    "## Generating SMILES Embeddings"
   ]
  },
  {
   "cell_type": "code",
   "execution_count": null,
   "metadata": {},
   "outputs": [],
   "source": [
    "from torch.utils.data import TensorDataset, DataLoader\n",
    "\n",
    "def compute_embeddings(smiles):\n",
    "    smiles_tokens = tokenizer(smiles, add_special_tokens=True, max_length=256, padding='max_length', truncation=True, return_tensors=\"pt\")\n",
    "    dataset = TensorDataset(smiles_tokens.input_ids, smiles_tokens.attention_mask)\n",
    "    dataloader = DataLoader(dataset, batch_size=24, shuffle=False, num_workers=2)\n",
    "\n",
    "    embeddings = []\n",
    "    for i, batch in enumerate(tqdm(dataloader)):\n",
    "\n",
    "        batch = tuple(t.to(device) for t in batch)\n",
    "        b_input_ids, b_input_mask = batch\n",
    "\n",
    "        with torch.no_grad():\n",
    "            model.eval()\n",
    "            smiles_embeddings = model(input_ids=b_input_ids, attention_mask=b_input_mask, output_hidden_states=True)\n",
    "        \n",
    "        last_hidden_states = smiles_embeddings.last_hidden_state\n",
    "        \n",
    "        embeddings.append(last_hidden_states.cpu().numpy())\n",
    "\n",
    "    embeddings_np = np.concatenate(embeddings, axis=0)\n",
    "\n",
    "    return embeddings_np"
   ]
  },
  {
   "cell_type": "code",
   "execution_count": null,
   "metadata": {},
   "outputs": [],
   "source": [
    "df = pd.read_csv('./data/drp.csv')\n",
    "df.head()"
   ]
  },
  {
   "cell_type": "code",
   "execution_count": null,
   "metadata": {},
   "outputs": [],
   "source": [
    "smiles = list(np.unique(df['smiles'].values))\n",
    "print(f\"Number of unique smiles: {len(smiles)}\")"
   ]
  },
  {
   "cell_type": "code",
   "execution_count": null,
   "metadata": {},
   "outputs": [],
   "source": [
    "smiles_embeddings = compute_embeddings(smiles)"
   ]
  },
  {
   "cell_type": "code",
   "execution_count": null,
   "metadata": {},
   "outputs": [],
   "source": [
    "compound_embeddings_dict = {s: embedding for s, embedding in zip(smiles, list(smiles_embeddings))}\n",
    "compound_embeddings_dict[smiles[0]].shape"
   ]
  },
  {
   "cell_type": "code",
   "execution_count": null,
   "metadata": {},
   "outputs": [],
   "source": [
    "joblib.dump(compound_embeddings_dict, os.path.join(\"data\", \"smiles_embeddings_dict.joblib\"))"
   ]
  },
  {
   "cell_type": "code",
   "execution_count": null,
   "metadata": {},
   "outputs": [],
   "source": [
    "joblib.load(os.path.join(\"data\", \"smiles_embeddings_dict.joblib\"))[smiles[0]].shape"
   ]
  },
  {
   "cell_type": "markdown",
   "metadata": {},
   "source": [
    "## Generating SMILES Tokens as Embeddings"
   ]
  },
  {
   "cell_type": "code",
   "execution_count": null,
   "metadata": {},
   "outputs": [],
   "source": [
    "df = pd.read_csv('./data/drp.csv')\n",
    "df.head()"
   ]
  },
  {
   "cell_type": "code",
   "execution_count": null,
   "metadata": {},
   "outputs": [],
   "source": [
    "smiles = list(np.unique(df['smiles'].values))\n",
    "print(f\"Number of unique smiles: {len(smiles)}\")"
   ]
  },
  {
   "cell_type": "code",
   "execution_count": null,
   "metadata": {},
   "outputs": [],
   "source": [
    "smiles_tokens_ids = tokenizer(smiles, add_special_tokens=True, max_length=256, padding='max_length', truncation=True, return_tensors=\"np\")['input_ids']\n",
    "smiles_tokens_ids.shape"
   ]
  },
  {
   "cell_type": "code",
   "execution_count": null,
   "metadata": {},
   "outputs": [],
   "source": [
    "compound_embeddings_dict = {s: embedding for s, embedding in zip(smiles, list(smiles_tokens_ids))}\n",
    "compound_embeddings_dict[smiles[0]].shape"
   ]
  },
  {
   "cell_type": "code",
   "execution_count": null,
   "metadata": {},
   "outputs": [],
   "source": [
    "joblib.dump(compound_embeddings_dict, os.path.join(\"data\", \"smiles_tokens_embeddings_dict.joblib\"))"
   ]
  },
  {
   "cell_type": "code",
   "execution_count": null,
   "metadata": {},
   "outputs": [],
   "source": [
    "joblib.load(os.path.join(\"data\", \"smiles_tokens_embeddings_dict.joblib\"))[smiles[0]].shape"
   ]
  }
 ],
 "metadata": {
  "kernelspec": {
   "display_name": "base",
   "language": "python",
   "name": "python3"
  },
  "language_info": {
   "codemirror_mode": {
    "name": "ipython",
    "version": 3
   },
   "file_extension": ".py",
   "mimetype": "text/x-python",
   "name": "python",
   "nbconvert_exporter": "python",
   "pygments_lexer": "ipython3",
   "version": "3.10.11"
  }
 },
 "nbformat": 4,
 "nbformat_minor": 2
}
